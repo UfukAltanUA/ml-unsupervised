{
 "cells": [
  {
   "cell_type": "code",
   "execution_count": 36,
   "metadata": {},
   "outputs": [],
   "source": [
    "import numpy as np\n",
    "import pandas as pd\n",
    "import seaborn as sns\n",
    "sns.set()\n",
    "import matplotlib.pyplot as plt\n",
    "\n",
    "\n",
    "from sklearn.model_selection import train_test_split\n",
    "from sklearn.preprocessing import StandardScaler\n",
    "from sklearn.linear_model import LogisticRegression"
   ]
  },
  {
   "cell_type": "code",
   "execution_count": 37,
   "metadata": {},
   "outputs": [
    {
     "data": {
      "text/html": [
       "<div>\n",
       "<style scoped>\n",
       "    .dataframe tbody tr th:only-of-type {\n",
       "        vertical-align: middle;\n",
       "    }\n",
       "\n",
       "    .dataframe tbody tr th {\n",
       "        vertical-align: top;\n",
       "    }\n",
       "\n",
       "    .dataframe thead th {\n",
       "        text-align: right;\n",
       "    }\n",
       "</style>\n",
       "<table border=\"1\" class=\"dataframe\">\n",
       "  <thead>\n",
       "    <tr style=\"text-align: right;\">\n",
       "      <th></th>\n",
       "      <th>Alcohol</th>\n",
       "      <th>Malic_Acid</th>\n",
       "      <th>Ash</th>\n",
       "      <th>Ash_Alcanity</th>\n",
       "      <th>Magnesium</th>\n",
       "      <th>Total_Phenols</th>\n",
       "      <th>Flavanoids</th>\n",
       "      <th>Nonflavanoid_Phenols</th>\n",
       "      <th>Proanthocyanins</th>\n",
       "      <th>Color_Intensity</th>\n",
       "      <th>Hue</th>\n",
       "      <th>OD280</th>\n",
       "      <th>Proline</th>\n",
       "      <th>Customer_Segment</th>\n",
       "    </tr>\n",
       "  </thead>\n",
       "  <tbody>\n",
       "    <tr>\n",
       "      <th>0</th>\n",
       "      <td>14.23</td>\n",
       "      <td>1.71</td>\n",
       "      <td>2.43</td>\n",
       "      <td>15.6</td>\n",
       "      <td>127</td>\n",
       "      <td>2.80</td>\n",
       "      <td>3.06</td>\n",
       "      <td>0.28</td>\n",
       "      <td>2.29</td>\n",
       "      <td>5.64</td>\n",
       "      <td>1.04</td>\n",
       "      <td>3.92</td>\n",
       "      <td>1065</td>\n",
       "      <td>1</td>\n",
       "    </tr>\n",
       "    <tr>\n",
       "      <th>1</th>\n",
       "      <td>13.20</td>\n",
       "      <td>1.78</td>\n",
       "      <td>2.14</td>\n",
       "      <td>11.2</td>\n",
       "      <td>100</td>\n",
       "      <td>2.65</td>\n",
       "      <td>2.76</td>\n",
       "      <td>0.26</td>\n",
       "      <td>1.28</td>\n",
       "      <td>4.38</td>\n",
       "      <td>1.05</td>\n",
       "      <td>3.40</td>\n",
       "      <td>1050</td>\n",
       "      <td>1</td>\n",
       "    </tr>\n",
       "    <tr>\n",
       "      <th>2</th>\n",
       "      <td>13.16</td>\n",
       "      <td>2.36</td>\n",
       "      <td>2.67</td>\n",
       "      <td>18.6</td>\n",
       "      <td>101</td>\n",
       "      <td>2.80</td>\n",
       "      <td>3.24</td>\n",
       "      <td>0.30</td>\n",
       "      <td>2.81</td>\n",
       "      <td>5.68</td>\n",
       "      <td>1.03</td>\n",
       "      <td>3.17</td>\n",
       "      <td>1185</td>\n",
       "      <td>1</td>\n",
       "    </tr>\n",
       "    <tr>\n",
       "      <th>3</th>\n",
       "      <td>14.37</td>\n",
       "      <td>1.95</td>\n",
       "      <td>2.50</td>\n",
       "      <td>16.8</td>\n",
       "      <td>113</td>\n",
       "      <td>3.85</td>\n",
       "      <td>3.49</td>\n",
       "      <td>0.24</td>\n",
       "      <td>2.18</td>\n",
       "      <td>7.80</td>\n",
       "      <td>0.86</td>\n",
       "      <td>3.45</td>\n",
       "      <td>1480</td>\n",
       "      <td>1</td>\n",
       "    </tr>\n",
       "    <tr>\n",
       "      <th>4</th>\n",
       "      <td>13.24</td>\n",
       "      <td>2.59</td>\n",
       "      <td>2.87</td>\n",
       "      <td>21.0</td>\n",
       "      <td>118</td>\n",
       "      <td>2.80</td>\n",
       "      <td>2.69</td>\n",
       "      <td>0.39</td>\n",
       "      <td>1.82</td>\n",
       "      <td>4.32</td>\n",
       "      <td>1.04</td>\n",
       "      <td>2.93</td>\n",
       "      <td>735</td>\n",
       "      <td>1</td>\n",
       "    </tr>\n",
       "  </tbody>\n",
       "</table>\n",
       "</div>"
      ],
      "text/plain": [
       "   Alcohol  Malic_Acid   Ash  Ash_Alcanity  Magnesium  Total_Phenols  \\\n",
       "0    14.23        1.71  2.43          15.6        127           2.80   \n",
       "1    13.20        1.78  2.14          11.2        100           2.65   \n",
       "2    13.16        2.36  2.67          18.6        101           2.80   \n",
       "3    14.37        1.95  2.50          16.8        113           3.85   \n",
       "4    13.24        2.59  2.87          21.0        118           2.80   \n",
       "\n",
       "   Flavanoids  Nonflavanoid_Phenols  Proanthocyanins  Color_Intensity   Hue  \\\n",
       "0        3.06                  0.28             2.29             5.64  1.04   \n",
       "1        2.76                  0.26             1.28             4.38  1.05   \n",
       "2        3.24                  0.30             2.81             5.68  1.03   \n",
       "3        3.49                  0.24             2.18             7.80  0.86   \n",
       "4        2.69                  0.39             1.82             4.32  1.04   \n",
       "\n",
       "   OD280  Proline  Customer_Segment  \n",
       "0   3.92     1065                 1  \n",
       "1   3.40     1050                 1  \n",
       "2   3.17     1185                 1  \n",
       "3   3.45     1480                 1  \n",
       "4   2.93      735                 1  "
      ]
     },
     "execution_count": 37,
     "metadata": {},
     "output_type": "execute_result"
    }
   ],
   "source": [
    "data = pd.read_csv('C:\\\\Users\\\\Ufuk Altan\\\\Downloads\\\\Downloads\\\\Data Science\\\\Machine Learning A-Z\\\\Part 9 - Dimensionality Reduction\\\\Section 43 - Principal Component Analysis (PCA)\\\\Wine.csv')\n",
    "data.head()"
   ]
  },
  {
   "cell_type": "code",
   "execution_count": 38,
   "metadata": {},
   "outputs": [],
   "source": [
    "X = data.drop('Customer_Segment', axis=1)\n",
    "y = data.iloc[: ,13]"
   ]
  },
  {
   "cell_type": "code",
   "execution_count": 39,
   "metadata": {},
   "outputs": [
    {
     "data": {
      "text/plain": [
       "Alcohol                -0.051482\n",
       "Malic_Acid              1.039651\n",
       "Ash                    -0.176699\n",
       "Ash_Alcanity            0.213047\n",
       "Magnesium               1.098191\n",
       "Total_Phenols           0.086639\n",
       "Flavanoids              0.025344\n",
       "Nonflavanoid_Phenols    0.450151\n",
       "Proanthocyanins         0.517137\n",
       "Color_Intensity         0.868585\n",
       "Hue                     0.021091\n",
       "OD280                  -0.307285\n",
       "Proline                 0.767822\n",
       "Customer_Segment        0.107431\n",
       "dtype: float64"
      ]
     },
     "execution_count": 39,
     "metadata": {},
     "output_type": "execute_result"
    }
   ],
   "source": [
    "data.skew()"
   ]
  },
  {
   "cell_type": "code",
   "execution_count": 40,
   "metadata": {},
   "outputs": [],
   "source": [
    "X_train, X_test, y_train, y_test = train_test_split(X,y,test_size = 0.2, random_state=0)"
   ]
  },
  {
   "cell_type": "code",
   "execution_count": 41,
   "metadata": {},
   "outputs": [],
   "source": [
    "sc = StandardScaler()\n",
    "X_train = sc.fit_transform(X_train)\n",
    "X_test = sc.fit_transform(X_test)"
   ]
  },
  {
   "cell_type": "code",
   "execution_count": 45,
   "metadata": {},
   "outputs": [
    {
     "data": {
      "text/plain": [
       "(142, 13)"
      ]
     },
     "execution_count": 45,
     "metadata": {},
     "output_type": "execute_result"
    }
   ],
   "source": [
    "X_train.shape"
   ]
  },
  {
   "cell_type": "code",
   "execution_count": 27,
   "metadata": {},
   "outputs": [
    {
     "data": {
      "text/plain": [
       "array([0.37281068, 0.18739996, 0.10801208, 0.07619859, 0.06261922,\n",
       "       0.04896412, 0.0417445 , 0.02515945, 0.02340805, 0.0184892 ,\n",
       "       0.01562956, 0.01269224, 0.00687236])"
      ]
     },
     "execution_count": 27,
     "metadata": {},
     "output_type": "execute_result"
    }
   ],
   "source": [
    "from sklearn.decomposition import PCA\n",
    "pca = PCA(n_components=None)\n",
    "X_train = pca.fit_transform(X_train)\n",
    "X_test = pca.transform(X_test)\n",
    "explained_variance = pca.explained_variance_ratio_\n",
    "explained_variance"
   ]
  },
  {
   "cell_type": "code",
   "execution_count": 52,
   "metadata": {},
   "outputs": [
    {
     "data": {
      "text/plain": [
       "array([[ 2.12849974e+00, -1.01973208e+00,  8.26209888e-02],\n",
       "       [-2.94812519e+00, -2.54806705e-01,  1.14589113e+00],\n",
       "       [ 1.91979542e+00,  1.33701156e+00, -4.02244683e-01],\n",
       "       [-2.13337607e+00, -9.45897150e-01,  1.40277015e+00],\n",
       "       [ 2.23680281e+00, -2.26983910e+00, -8.77499126e-01],\n",
       "       [-2.28747076e+00, -1.99359253e-01,  7.97227232e-01],\n",
       "       [-2.97244958e+00, -2.96522642e-01,  9.31504047e-01],\n",
       "       [ 2.61809796e+00, -7.76070011e-01,  8.30660247e-02],\n",
       "       [-1.04705463e+00, -3.49093326e+00, -1.29203589e+00],\n",
       "       [ 2.60981596e+00,  7.34569695e-02,  1.78959140e-01],\n",
       "       [ 1.52296770e-01,  2.31809388e+00,  4.97096689e-01],\n",
       "       [-2.61422416e+00, -2.54812754e+00,  1.05342808e+00],\n",
       "       [-2.50949512e+00, -4.27708661e-01,  9.04277766e-01],\n",
       "       [ 1.72319479e+00,  9.11994596e-01, -2.15447686e+00],\n",
       "       [-2.75936377e+00, -3.86681070e-01, -7.50384226e-01],\n",
       "       [-2.82343185e+00, -1.89597038e+00,  6.34846718e-01],\n",
       "       [ 1.36403459e+00,  8.54516419e-02,  1.31834921e+00],\n",
       "       [-2.43383713e+00,  1.15738021e-01, -5.21582671e-01],\n",
       "       [-2.25731631e+00,  4.86291422e-01,  1.08346105e+00],\n",
       "       [ 1.12118381e+00,  2.51095575e+00,  1.03269867e+00],\n",
       "       [-2.30339155e+00,  1.25712557e+00,  1.81677754e+00],\n",
       "       [-2.50110791e+00, -5.37200019e-01,  9.35590700e-01],\n",
       "       [ 1.63810025e-01,  1.29094356e+00,  1.70710238e+00],\n",
       "       [ 2.55406891e+00, -1.06285353e+00, -1.06007894e+00],\n",
       "       [-7.67479380e-01,  3.08596417e+00,  4.57778471e+00],\n",
       "       [ 2.53386450e+00,  1.03476738e-01, -4.17588837e-01],\n",
       "       [-5.11862990e-01,  6.92471795e-01, -1.02474896e+00],\n",
       "       [ 5.38678361e-01, -3.23185656e-01,  1.29392154e-01],\n",
       "       [ 3.55987441e+00, -1.34755387e+00,  3.01682342e-01],\n",
       "       [ 1.61945680e+00,  1.47194770e+00, -1.73878945e+00],\n",
       "       [ 2.61872861e+00, -2.48743410e-02, -3.14971266e+00],\n",
       "       [-3.58075310e+00, -7.37740802e-01,  1.33383739e+00],\n",
       "       [-1.58323537e+00, -2.39481792e+00, -6.55989860e-01],\n",
       "       [ 1.44566293e+00,  1.42529469e+00, -1.02990216e-03],\n",
       "       [ 7.47885763e-03,  2.10807917e+00, -4.34324152e-01],\n",
       "       [-1.55039574e-01,  2.87859455e+00,  3.58939023e-01],\n",
       "       [-2.35609895e+00, -2.41121931e+00, -3.90792480e-01],\n",
       "       [-3.11008066e+00,  4.13464853e-01,  9.27581795e-01],\n",
       "       [ 3.25867129e+00, -2.77636807e-01,  1.85727554e+00],\n",
       "       [-3.50784308e+00, -1.72550896e+00,  6.31012341e-02],\n",
       "       [-4.30820213e-01,  2.64346544e+00, -9.05456433e-01],\n",
       "       [-5.23573673e-01,  2.02939580e+00, -6.02489674e-01],\n",
       "       [-1.10965462e+00,  7.82761151e-01, -2.96486212e+00],\n",
       "       [ 1.00968727e+00,  1.37570996e+00, -1.55692094e+00],\n",
       "       [ 1.98247419e+00,  1.70019796e+00,  1.58459202e+00],\n",
       "       [ 2.77325961e+00, -1.76838941e+00,  5.72095734e-01],\n",
       "       [ 2.06945493e+00, -1.27720697e+00, -6.49410725e-02],\n",
       "       [ 8.60586961e-01,  2.08160358e+00,  2.46203527e-01],\n",
       "       [ 3.51764429e+00, -1.34777921e+00,  8.78418958e-01],\n",
       "       [-3.77996006e+00, -3.79211953e-02, -1.94122190e-01],\n",
       "       [ 1.72749292e+00,  5.31649167e-01, -2.18838690e-01],\n",
       "       [-3.42557047e+00, -7.98552067e-01,  3.73552626e-01],\n",
       "       [ 3.14791384e+00, -7.38564002e-01,  3.21772613e-01],\n",
       "       [ 2.38109106e+00, -1.62455368e+00, -2.83755086e-01],\n",
       "       [ 1.28316687e+00,  9.53960701e-01,  1.44461270e+00],\n",
       "       [ 3.57366728e+00, -1.69259754e+00,  3.85401845e-01],\n",
       "       [ 9.12058331e-01,  2.42502183e+00,  1.64492069e+00],\n",
       "       [ 4.67022319e-01,  2.13917446e+00,  2.38792838e+00],\n",
       "       [ 3.81636400e+00, -2.81547840e+00,  1.90108115e-02],\n",
       "       [-2.32677847e+00, -2.08857718e+00,  6.84905143e-01],\n",
       "       [-1.52142992e+00,  1.41178830e+00, -2.77168127e-01],\n",
       "       [ 2.51818928e+00, -1.24415522e+00,  7.41901516e-01],\n",
       "       [-6.77941655e-01,  3.09106140e-01,  7.12782419e-01],\n",
       "       [-7.66045456e-01,  2.54381100e+00,  1.68489993e+00],\n",
       "       [ 8.63649631e-01,  1.51546118e+00, -5.78233354e-01],\n",
       "       [-1.23880696e+00,  5.84272887e-02,  1.35693960e+00],\n",
       "       [ 2.21186398e+00, -7.53275628e-01,  6.84165776e-01],\n",
       "       [-3.82956254e+00, -5.25700837e-01, -1.68655481e+00],\n",
       "       [-1.76777879e+00, -1.31951728e+00, -1.24923998e+00],\n",
       "       [ 4.35873299e+00, -2.24834474e+00,  1.03118750e+00],\n",
       "       [ 3.33591108e+00, -1.39194415e+00,  1.08125929e-01],\n",
       "       [-1.48478755e+00,  1.94049512e+00, -7.30151734e-01],\n",
       "       [-2.70337927e+00, -2.06961390e+00,  9.48837331e-01],\n",
       "       [ 2.79538972e+00, -1.28878345e+00,  3.11064774e-01],\n",
       "       [ 1.85926517e+00, -6.32787608e-01,  1.03995852e+00],\n",
       "       [-4.53905029e-01,  2.23873339e+00,  3.63397044e-01],\n",
       "       [-8.32479410e-02,  1.23099611e+00, -9.93664505e-01],\n",
       "       [ 1.97449797e+00, -1.68734109e-01, -5.24718178e-01],\n",
       "       [ 2.25985213e+00, -1.23442885e+00, -3.49558631e-01],\n",
       "       [ 7.89323623e-01, -2.01746663e-01,  6.70089718e-01],\n",
       "       [-3.27020912e+00, -2.13610115e+00,  2.34426780e-01],\n",
       "       [ 9.60092676e-01,  7.83549614e-01, -5.58249705e-01],\n",
       "       [ 2.30520847e+00,  2.94658283e-01,  1.91871965e+00],\n",
       "       [ 8.11817077e-01,  1.44079738e+00, -1.04923537e+00],\n",
       "       [-2.26440851e+00, -4.44178294e-01,  1.10393843e-01],\n",
       "       [ 3.13752247e+00, -1.22442962e+00,  1.26993578e-01],\n",
       "       [-1.67949916e+00,  1.78087335e+00, -9.17954756e-01],\n",
       "       [-2.82728701e+00, -6.90443617e-02,  2.75788311e-01],\n",
       "       [-2.65197806e+00, -2.49692065e-01,  1.33036547e+00],\n",
       "       [ 1.97882761e+00, -1.59155072e+00, -8.11730036e-01],\n",
       "       [ 1.61795568e+00,  7.66703464e-01,  1.38910938e+00],\n",
       "       [-2.03958713e+00, -1.89317723e-01,  5.45846408e-01],\n",
       "       [ 2.30154259e+00, -1.84752991e+00, -4.04114372e-01],\n",
       "       [-2.26940785e+00, -1.57815407e-01, -1.22911024e+00],\n",
       "       [-3.91743210e-01,  1.97595383e+00, -1.25806180e+00],\n",
       "       [ 1.49041281e+00, -6.25473436e-01, -5.07920090e-01],\n",
       "       [ 2.24738714e+00, -6.88073889e-01, -1.52714123e+00],\n",
       "       [-3.89140329e-01,  1.96394119e+00, -1.33274104e+00],\n",
       "       [ 2.76957033e+00, -1.46161853e+00,  2.99332694e-01],\n",
       "       [-2.82921453e+00, -1.83350745e+00,  6.16871949e-01],\n",
       "       [-1.50730937e+00,  1.31749083e+00, -3.23438521e+00],\n",
       "       [-3.28214353e+00, -1.14390897e+00, -1.49663428e+00],\n",
       "       [ 1.70930763e+00, -5.87536905e-02,  8.81691239e-02],\n",
       "       [-2.87703277e+00, -3.45785464e-01, -1.00228553e+00],\n",
       "       [-2.27186276e+00, -2.09219986e+00, -2.92852806e-01],\n",
       "       [-3.47678381e+00, -1.18758425e+00,  5.28476790e-02],\n",
       "       [ 2.32543116e+00, -2.44337783e-01,  9.07661298e-01],\n",
       "       [ 1.46611705e+00,  2.06782916e+00, -8.28576088e-01],\n",
       "       [-3.82761857e-01,  2.41793363e+00, -1.34902983e+00],\n",
       "       [ 4.50163506e-01,  1.05312379e+00, -1.81343532e+00],\n",
       "       [ 5.72776083e-01,  3.88076632e+00, -1.25983243e+00],\n",
       "       [-2.71728029e+00, -1.49037448e+00,  4.24242969e-01],\n",
       "       [-3.13804648e+00, -2.68476716e+00, -1.13739684e+00],\n",
       "       [-6.14506699e-01,  1.12400443e+00, -1.47266309e-01],\n",
       "       [-1.36227447e+00,  1.56046239e+00,  3.93923912e-01],\n",
       "       [ 1.02517955e+00, -7.79778193e-01, -3.74343107e+00],\n",
       "       [ 1.12122140e+00,  1.43499022e+00,  2.97410863e-01],\n",
       "       [-2.84028822e+00, -1.17419974e+00,  1.18907599e+00],\n",
       "       [-2.32603653e+00, -2.38615103e+00, -1.40541729e+00],\n",
       "       [ 2.54215407e+00, -1.77306082e+00,  2.22585979e-01],\n",
       "       [ 3.20902540e+00, -1.76888456e+00,  1.99304758e-01],\n",
       "       [-2.68218112e+00, -1.52829339e-01, -6.30287868e-01],\n",
       "       [-1.00468497e+00,  1.85934423e+00, -9.06773693e-01],\n",
       "       [-1.46565835e+00,  1.05942947e+00,  7.92758050e-01],\n",
       "       [-4.65414906e-01,  2.48932490e+00, -2.23077357e+00],\n",
       "       [ 1.44880978e+00, -6.16727082e-01, -5.23184645e-01],\n",
       "       [ 1.12753462e+00, -2.06646534e-01, -1.01829765e+00],\n",
       "       [ 2.81765565e+00, -8.45873554e-01,  8.28612667e-01],\n",
       "       [-5.40398126e-01,  2.69352638e+00,  8.11081189e-01],\n",
       "       [ 2.94211054e-01,  2.43046262e+00,  1.02345021e+00],\n",
       "       [-3.31843557e-02,  2.06611350e+00, -5.63365366e-01],\n",
       "       [ 2.88689907e+00, -7.14086057e-01,  1.02305264e+00],\n",
       "       [-2.39279562e+00, -2.13222190e+00,  7.77386482e-01]])"
      ]
     },
     "execution_count": 52,
     "metadata": {},
     "output_type": "execute_result"
    }
   ],
   "source": [
    "X_train"
   ]
  },
  {
   "cell_type": "code",
   "execution_count": 53,
   "metadata": {},
   "outputs": [
    {
     "name": "stderr",
     "output_type": "stream",
     "text": [
      "C:\\Anaconda3\\lib\\site-packages\\sklearn\\linear_model\\logistic.py:432: FutureWarning: Default solver will be changed to 'lbfgs' in 0.22. Specify a solver to silence this warning.\n",
      "  FutureWarning)\n",
      "C:\\Anaconda3\\lib\\site-packages\\sklearn\\linear_model\\logistic.py:469: FutureWarning: Default multi_class will be changed to 'auto' in 0.22. Specify the multi_class option to silence this warning.\n",
      "  \"this warning.\", FutureWarning)\n"
     ]
    },
    {
     "data": {
      "text/plain": [
       "LogisticRegression(C=1.0, class_weight=None, dual=False, fit_intercept=True,\n",
       "                   intercept_scaling=1, l1_ratio=None, max_iter=100,\n",
       "                   multi_class='warn', n_jobs=None, penalty='l2',\n",
       "                   random_state=0, solver='warn', tol=0.0001, verbose=0,\n",
       "                   warm_start=False)"
      ]
     },
     "execution_count": 53,
     "metadata": {},
     "output_type": "execute_result"
    }
   ],
   "source": [
    "classifier = LogisticRegression(random_state=0)\n",
    "classifier.fit(X_train,y_train)"
   ]
  },
  {
   "cell_type": "code",
   "execution_count": 54,
   "metadata": {},
   "outputs": [],
   "source": [
    "y_pred = classifier.predict(X_test)"
   ]
  },
  {
   "cell_type": "code",
   "execution_count": 55,
   "metadata": {},
   "outputs": [
    {
     "data": {
      "text/plain": [
       "array([[15,  0,  0],\n",
       "       [ 1, 20,  0],\n",
       "       [ 0,  1,  8]], dtype=int64)"
      ]
     },
     "execution_count": 55,
     "metadata": {},
     "output_type": "execute_result"
    }
   ],
   "source": [
    "from sklearn.metrics import confusion_matrix,accuracy_score, classification_report\n",
    "confusion_matrix(y_pred, y_test)"
   ]
  },
  {
   "cell_type": "code",
   "execution_count": 56,
   "metadata": {},
   "outputs": [
    {
     "data": {
      "text/plain": [
       "0.9555555555555556"
      ]
     },
     "execution_count": 56,
     "metadata": {},
     "output_type": "execute_result"
    }
   ],
   "source": [
    "accuracy_score(y_pred,y_test)"
   ]
  },
  {
   "cell_type": "code",
   "execution_count": 57,
   "metadata": {},
   "outputs": [
    {
     "name": "stdout",
     "output_type": "stream",
     "text": [
      "              precision    recall  f1-score   support\n",
      "\n",
      "           1       0.94      1.00      0.97        15\n",
      "           2       0.95      0.95      0.95        21\n",
      "           3       1.00      0.89      0.94         9\n",
      "\n",
      "    accuracy                           0.96        45\n",
      "   macro avg       0.96      0.95      0.95        45\n",
      "weighted avg       0.96      0.96      0.96        45\n",
      "\n"
     ]
    }
   ],
   "source": [
    "print(classification_report(y_pred,y_test))"
   ]
  },
  {
   "cell_type": "code",
   "execution_count": null,
   "metadata": {},
   "outputs": [],
   "source": []
  }
 ],
 "metadata": {
  "kernelspec": {
   "display_name": "Python 3",
   "language": "python",
   "name": "python3"
  },
  "language_info": {
   "codemirror_mode": {
    "name": "ipython",
    "version": 3
   },
   "file_extension": ".py",
   "mimetype": "text/x-python",
   "name": "python",
   "nbconvert_exporter": "python",
   "pygments_lexer": "ipython3",
   "version": "3.7.3"
  }
 },
 "nbformat": 4,
 "nbformat_minor": 2
}
