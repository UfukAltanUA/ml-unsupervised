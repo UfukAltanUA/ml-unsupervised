{
 "cells": [
  {
   "cell_type": "code",
   "execution_count": 1,
   "metadata": {},
   "outputs": [],
   "source": [
    "import numpy as np\n",
    "import pandas as pd\n",
    "import matplotlib.pyplot as plt\n",
    "import seaborn as sns"
   ]
  },
  {
   "cell_type": "code",
   "execution_count": 2,
   "metadata": {},
   "outputs": [
    {
     "data": {
      "text/html": [
       "<div>\n",
       "<style scoped>\n",
       "    .dataframe tbody tr th:only-of-type {\n",
       "        vertical-align: middle;\n",
       "    }\n",
       "\n",
       "    .dataframe tbody tr th {\n",
       "        vertical-align: top;\n",
       "    }\n",
       "\n",
       "    .dataframe thead th {\n",
       "        text-align: right;\n",
       "    }\n",
       "</style>\n",
       "<table border=\"1\" class=\"dataframe\">\n",
       "  <thead>\n",
       "    <tr style=\"text-align: right;\">\n",
       "      <th></th>\n",
       "      <th>HAT</th>\n",
       "      <th>FİYAT</th>\n",
       "      <th>SATIŞ</th>\n",
       "    </tr>\n",
       "  </thead>\n",
       "  <tbody>\n",
       "    <tr>\n",
       "      <th>0</th>\n",
       "      <td>ISTANBUL-ANKARA</td>\n",
       "      <td>50</td>\n",
       "      <td>40</td>\n",
       "    </tr>\n",
       "    <tr>\n",
       "      <th>1</th>\n",
       "      <td>ANKARA-ISTANBUL</td>\n",
       "      <td>75</td>\n",
       "      <td>22</td>\n",
       "    </tr>\n",
       "    <tr>\n",
       "      <th>2</th>\n",
       "      <td>ANKARA-ISTANBUL</td>\n",
       "      <td>100</td>\n",
       "      <td>22</td>\n",
       "    </tr>\n",
       "    <tr>\n",
       "      <th>3</th>\n",
       "      <td>ISTANBUL-IZMIR</td>\n",
       "      <td>50</td>\n",
       "      <td>40</td>\n",
       "    </tr>\n",
       "    <tr>\n",
       "      <th>4</th>\n",
       "      <td>ANKARA-ISTANBUL</td>\n",
       "      <td>75</td>\n",
       "      <td>40</td>\n",
       "    </tr>\n",
       "  </tbody>\n",
       "</table>\n",
       "</div>"
      ],
      "text/plain": [
       "               HAT  FİYAT  SATIŞ\n",
       "0  ISTANBUL-ANKARA     50     40\n",
       "1  ANKARA-ISTANBUL     75     22\n",
       "2  ANKARA-ISTANBUL    100     22\n",
       "3   ISTANBUL-IZMIR     50     40\n",
       "4  ANKARA-ISTANBUL     75     40"
      ]
     },
     "execution_count": 2,
     "metadata": {},
     "output_type": "execute_result"
    }
   ],
   "source": [
    "path = 'C:\\\\Users\\\\Ufuk Altan\\\\Desktop\\\\TicketOptimization\\\\Veri\\\\'\n",
    "df = pd.read_csv(path + 'HatlarSahteVeri.csv')\n",
    "df.head()"
   ]
  },
  {
   "cell_type": "markdown",
   "metadata": {},
   "source": [
    "# AUTOENCODER"
   ]
  },
  {
   "cell_type": "code",
   "execution_count": 3,
   "metadata": {},
   "outputs": [
    {
     "data": {
      "text/html": [
       "<div>\n",
       "<style scoped>\n",
       "    .dataframe tbody tr th:only-of-type {\n",
       "        vertical-align: middle;\n",
       "    }\n",
       "\n",
       "    .dataframe tbody tr th {\n",
       "        vertical-align: top;\n",
       "    }\n",
       "\n",
       "    .dataframe thead th {\n",
       "        text-align: right;\n",
       "    }\n",
       "</style>\n",
       "<table border=\"1\" class=\"dataframe\">\n",
       "  <thead>\n",
       "    <tr style=\"text-align: right;\">\n",
       "      <th></th>\n",
       "      <th>FİYAT</th>\n",
       "      <th>SATIŞ</th>\n",
       "    </tr>\n",
       "    <tr>\n",
       "      <th>HAT</th>\n",
       "      <th></th>\n",
       "      <th></th>\n",
       "    </tr>\n",
       "  </thead>\n",
       "  <tbody>\n",
       "    <tr>\n",
       "      <th>ANKARA-ISTANBUL</th>\n",
       "      <td>108.333333</td>\n",
       "      <td>25.0</td>\n",
       "    </tr>\n",
       "    <tr>\n",
       "      <th>ISTANBUL-ANKARA</th>\n",
       "      <td>107.142857</td>\n",
       "      <td>30.0</td>\n",
       "    </tr>\n",
       "    <tr>\n",
       "      <th>ISTANBUL-IZMIR</th>\n",
       "      <td>109.375000</td>\n",
       "      <td>26.5</td>\n",
       "    </tr>\n",
       "    <tr>\n",
       "      <th>IZMIR-ANKARA</th>\n",
       "      <td>120.000000</td>\n",
       "      <td>24.9</td>\n",
       "    </tr>\n",
       "  </tbody>\n",
       "</table>\n",
       "</div>"
      ],
      "text/plain": [
       "                      FİYAT  SATIŞ\n",
       "HAT                               \n",
       "ANKARA-ISTANBUL  108.333333   25.0\n",
       "ISTANBUL-ANKARA  107.142857   30.0\n",
       "ISTANBUL-IZMIR   109.375000   26.5\n",
       "IZMIR-ANKARA     120.000000   24.9"
      ]
     },
     "execution_count": 3,
     "metadata": {},
     "output_type": "execute_result"
    }
   ],
   "source": [
    "df.groupby('HAT').mean()"
   ]
  },
  {
   "cell_type": "code",
   "execution_count": 4,
   "metadata": {},
   "outputs": [],
   "source": [
    "data = df.groupby('HAT').mean()"
   ]
  },
  {
   "cell_type": "code",
   "execution_count": 5,
   "metadata": {},
   "outputs": [
    {
     "data": {
      "text/html": [
       "<div>\n",
       "<style scoped>\n",
       "    .dataframe tbody tr th:only-of-type {\n",
       "        vertical-align: middle;\n",
       "    }\n",
       "\n",
       "    .dataframe tbody tr th {\n",
       "        vertical-align: top;\n",
       "    }\n",
       "\n",
       "    .dataframe thead th {\n",
       "        text-align: right;\n",
       "    }\n",
       "</style>\n",
       "<table border=\"1\" class=\"dataframe\">\n",
       "  <thead>\n",
       "    <tr style=\"text-align: right;\">\n",
       "      <th></th>\n",
       "      <th>FİYAT</th>\n",
       "      <th>SATIŞ</th>\n",
       "    </tr>\n",
       "    <tr>\n",
       "      <th>HAT</th>\n",
       "      <th></th>\n",
       "      <th></th>\n",
       "    </tr>\n",
       "  </thead>\n",
       "  <tbody>\n",
       "    <tr>\n",
       "      <th>ANKARA-ISTANBUL</th>\n",
       "      <td>100.0</td>\n",
       "      <td>23.5</td>\n",
       "    </tr>\n",
       "    <tr>\n",
       "      <th>ISTANBUL-ANKARA</th>\n",
       "      <td>75.0</td>\n",
       "      <td>25.0</td>\n",
       "    </tr>\n",
       "    <tr>\n",
       "      <th>ISTANBUL-IZMIR</th>\n",
       "      <td>100.0</td>\n",
       "      <td>23.5</td>\n",
       "    </tr>\n",
       "    <tr>\n",
       "      <th>IZMIR-ANKARA</th>\n",
       "      <td>100.0</td>\n",
       "      <td>22.0</td>\n",
       "    </tr>\n",
       "  </tbody>\n",
       "</table>\n",
       "</div>"
      ],
      "text/plain": [
       "                 FİYAT  SATIŞ\n",
       "HAT                          \n",
       "ANKARA-ISTANBUL  100.0   23.5\n",
       "ISTANBUL-ANKARA   75.0   25.0\n",
       "ISTANBUL-IZMIR   100.0   23.5\n",
       "IZMIR-ANKARA     100.0   22.0"
      ]
     },
     "execution_count": 5,
     "metadata": {},
     "output_type": "execute_result"
    }
   ],
   "source": [
    "df.groupby('HAT').median()"
   ]
  },
  {
   "cell_type": "code",
   "execution_count": 6,
   "metadata": {},
   "outputs": [
    {
     "data": {
      "image/png": "[encoded data removed]",
      "text/plain": [
       "<Figure size 1152x504 with 2 Axes>"
      ]
     },
     "metadata": {
      "needs_background": "light"
     },
     "output_type": "display_data"
    }
   ],
   "source": [
    "plt.figure(figsize = (16,7))\n",
    "\n",
    "plt.subplot(1,2,1)\n",
    "plt.hist(df['FİYAT'], color ='r');\n",
    "\n",
    "plt.subplot(1,2,2)\n",
    "plt.hist(df['SATIŞ']);"
   ]
  },
  {
   "cell_type": "code",
   "execution_count": 6,
   "metadata": {},
   "outputs": [
    {
     "data": {
      "text/html": [
       "<div>\n",
       "<style scoped>\n",
       "    .dataframe tbody tr th:only-of-type {\n",
       "        vertical-align: middle;\n",
       "    }\n",
       "\n",
       "    .dataframe tbody tr th {\n",
       "        vertical-align: top;\n",
       "    }\n",
       "\n",
       "    .dataframe thead th {\n",
       "        text-align: right;\n",
       "    }\n",
       "</style>\n",
       "<table border=\"1\" class=\"dataframe\">\n",
       "  <thead>\n",
       "    <tr style=\"text-align: right;\">\n",
       "      <th></th>\n",
       "      <th>FİYAT</th>\n",
       "      <th>SATIŞ</th>\n",
       "    </tr>\n",
       "    <tr>\n",
       "      <th>HAT</th>\n",
       "      <th></th>\n",
       "      <th></th>\n",
       "    </tr>\n",
       "  </thead>\n",
       "  <tbody>\n",
       "    <tr>\n",
       "      <th>ANKARA-ISTANBUL</th>\n",
       "      <td>108.333333</td>\n",
       "      <td>25.0</td>\n",
       "    </tr>\n",
       "    <tr>\n",
       "      <th>ISTANBUL-ANKARA</th>\n",
       "      <td>107.142857</td>\n",
       "      <td>30.0</td>\n",
       "    </tr>\n",
       "    <tr>\n",
       "      <th>ISTANBUL-IZMIR</th>\n",
       "      <td>109.375000</td>\n",
       "      <td>26.5</td>\n",
       "    </tr>\n",
       "    <tr>\n",
       "      <th>IZMIR-ANKARA</th>\n",
       "      <td>120.000000</td>\n",
       "      <td>24.9</td>\n",
       "    </tr>\n",
       "  </tbody>\n",
       "</table>\n",
       "</div>"
      ],
      "text/plain": [
       "                      FİYAT  SATIŞ\n",
       "HAT                               \n",
       "ANKARA-ISTANBUL  108.333333   25.0\n",
       "ISTANBUL-ANKARA  107.142857   30.0\n",
       "ISTANBUL-IZMIR   109.375000   26.5\n",
       "IZMIR-ANKARA     120.000000   24.9"
      ]
     },
     "execution_count": 6,
     "metadata": {},
     "output_type": "execute_result"
    }
   ],
   "source": [
    "data"
   ]
  },
  {
   "cell_type": "code",
   "execution_count": 7,
   "metadata": {},
   "outputs": [],
   "source": [
    "data['RAKİP1'] = [100, 95, 105, 110]\n",
    "data['RAKİP2'] = [90, 85, 107, 135]\n",
    "data['ZAMAN-ARALIĞI'] = [26, 45, 25, 10]"
   ]
  },
  {
   "cell_type": "code",
   "execution_count": 8,
   "metadata": {},
   "outputs": [
    {
     "data": {
      "text/html": [
       "<div>\n",
       "<style scoped>\n",
       "    .dataframe tbody tr th:only-of-type {\n",
       "        vertical-align: middle;\n",
       "    }\n",
       "\n",
       "    .dataframe tbody tr th {\n",
       "        vertical-align: top;\n",
       "    }\n",
       "\n",
       "    .dataframe thead th {\n",
       "        text-align: right;\n",
       "    }\n",
       "</style>\n",
       "<table border=\"1\" class=\"dataframe\">\n",
       "  <thead>\n",
       "    <tr style=\"text-align: right;\">\n",
       "      <th></th>\n",
       "      <th>FİYAT</th>\n",
       "      <th>SATIŞ</th>\n",
       "      <th>RAKİP1</th>\n",
       "      <th>RAKİP2</th>\n",
       "      <th>ZAMAN-ARALIĞI</th>\n",
       "    </tr>\n",
       "    <tr>\n",
       "      <th>HAT</th>\n",
       "      <th></th>\n",
       "      <th></th>\n",
       "      <th></th>\n",
       "      <th></th>\n",
       "      <th></th>\n",
       "    </tr>\n",
       "  </thead>\n",
       "  <tbody>\n",
       "    <tr>\n",
       "      <th>ANKARA-ISTANBUL</th>\n",
       "      <td>108.333333</td>\n",
       "      <td>25.0</td>\n",
       "      <td>100</td>\n",
       "      <td>90</td>\n",
       "      <td>26</td>\n",
       "    </tr>\n",
       "    <tr>\n",
       "      <th>ISTANBUL-ANKARA</th>\n",
       "      <td>107.142857</td>\n",
       "      <td>30.0</td>\n",
       "      <td>95</td>\n",
       "      <td>85</td>\n",
       "      <td>45</td>\n",
       "    </tr>\n",
       "    <tr>\n",
       "      <th>ISTANBUL-IZMIR</th>\n",
       "      <td>109.375000</td>\n",
       "      <td>26.5</td>\n",
       "      <td>105</td>\n",
       "      <td>107</td>\n",
       "      <td>25</td>\n",
       "    </tr>\n",
       "    <tr>\n",
       "      <th>IZMIR-ANKARA</th>\n",
       "      <td>120.000000</td>\n",
       "      <td>24.9</td>\n",
       "      <td>110</td>\n",
       "      <td>135</td>\n",
       "      <td>10</td>\n",
       "    </tr>\n",
       "  </tbody>\n",
       "</table>\n",
       "</div>"
      ],
      "text/plain": [
       "                      FİYAT  SATIŞ  RAKİP1  RAKİP2  ZAMAN-ARALIĞI\n",
       "HAT                                                              \n",
       "ANKARA-ISTANBUL  108.333333   25.0     100      90             26\n",
       "ISTANBUL-ANKARA  107.142857   30.0      95      85             45\n",
       "ISTANBUL-IZMIR   109.375000   26.5     105     107             25\n",
       "IZMIR-ANKARA     120.000000   24.9     110     135             10"
      ]
     },
     "execution_count": 8,
     "metadata": {},
     "output_type": "execute_result"
    }
   ],
   "source": [
    "data"
   ]
  },
  {
   "cell_type": "code",
   "execution_count": 9,
   "metadata": {},
   "outputs": [
    {
     "data": {
      "text/plain": [
       "<AxesSubplot:ylabel='HAT'>"
      ]
     },
     "execution_count": 9,
     "metadata": {},
     "output_type": "execute_result"
    },
    {
     "data": {
      "image/png": "[encoded data removed]",
      "text/plain": [
       "<Figure size 432x288 with 2 Axes>"
      ]
     },
     "metadata": {
      "needs_background": "light"
     },
     "output_type": "display_data"
    }
   ],
   "source": [
    "sns.heatmap(data,annot =True, cmap ='Blues',fmt='.4g')"
   ]
  },
  {
   "cell_type": "code",
   "execution_count": 10,
   "metadata": {},
   "outputs": [],
   "source": [
    "from tensorflow.keras.models import Sequential\n",
    "from tensorflow.keras.layers import Dense\n",
    "from tensorflow.keras.optimizers import SGD"
   ]
  },
  {
   "cell_type": "code",
   "execution_count": 11,
   "metadata": {},
   "outputs": [],
   "source": [
    "encoder = Sequential()\n",
    "encoder.add(Dense(4, activation='relu', input_shape=[5]))\n",
    "encoder.add(Dense(2, activation='relu'))\n",
    "\n",
    "decoder = Sequential()\n",
    "decoder.add(Dense(4, activation='relu', input_shape=[2]))\n",
    "decoder.add(Dense(5, activation='relu'))"
   ]
  },
  {
   "cell_type": "code",
   "execution_count": 12,
   "metadata": {},
   "outputs": [],
   "source": [
    "autoencoder = Sequential([encoder,decoder])\n",
    "autoencoder.compile(loss='mse', optimizer = SGD(lr = 1.2))"
   ]
  },
  {
   "cell_type": "code",
   "execution_count": 129,
   "metadata": {},
   "outputs": [],
   "source": [
    "from sklearn.preprocessing import MinMaxScaler\n",
    "scaler = MinMaxScaler()\n",
    "train = scaler.fit_transform(data.values)"
   ]
  },
  {
   "cell_type": "code",
   "execution_count": 14,
   "metadata": {},
   "outputs": [
    {
     "name": "stdout",
     "output_type": "stream",
     "text": [
      "Train on 4 samples\n",
      "Epoch 1/20\n",
      "WARNING:tensorflow:Entity <function Function._initialize_uninitialized_variables.<locals>.initialize_variables at 0x0000014A51ECFB70> could not be transformed and will be executed as-is. Please report this to the AutoGraph team. When filing the bug, set the verbosity to 10 (on Linux, `export AUTOGRAPH_VERBOSITY=10`) and attach the full output. Cause: module 'gast' has no attribute 'Num'\n",
      "WARNING: Entity <function Function._initialize_uninitialized_variables.<locals>.initialize_variables at 0x0000014A51ECFB70> could not be transformed and will be executed as-is. Please report this to the AutoGraph team. When filing the bug, set the verbosity to 10 (on Linux, `export AUTOGRAPH_VERBOSITY=10`) and attach the full output. Cause: module 'gast' has no attribute 'Num'\n",
      "4/4 [==============================] - 1s 211ms/sample - loss: 0.2883\n",
      "Epoch 2/20\n",
      "4/4 [==============================] - 0s 2ms/sample - loss: 0.2165\n",
      "Epoch 3/20\n",
      "4/4 [==============================] - 0s 2ms/sample - loss: 0.1938\n",
      "Epoch 4/20\n",
      "4/4 [==============================] - 0s 2ms/sample - loss: 0.1756\n",
      "Epoch 5/20\n",
      "4/4 [==============================] - 0s 1ms/sample - loss: 0.1122\n",
      "Epoch 6/20\n",
      "4/4 [==============================] - 0s 2ms/sample - loss: 0.1015\n",
      "Epoch 7/20\n",
      "4/4 [==============================] - 0s 1ms/sample - loss: 0.0961\n",
      "Epoch 8/20\n",
      "4/4 [==============================] - 0s 1ms/sample - loss: 0.0922\n",
      "Epoch 9/20\n",
      "4/4 [==============================] - 0s 5ms/sample - loss: 0.0896\n",
      "Epoch 10/20\n",
      "4/4 [==============================] - 0s 2ms/sample - loss: 0.0876\n",
      "Epoch 11/20\n",
      "4/4 [==============================] - 0s 3ms/sample - loss: 0.0865\n",
      "Epoch 12/20\n",
      "4/4 [==============================] - 0s 13ms/sample - loss: 0.0856\n",
      "Epoch 13/20\n",
      "4/4 [==============================] - 0s 2ms/sample - loss: 0.0862\n",
      "Epoch 14/20\n",
      "4/4 [==============================] - 0s 2ms/sample - loss: 0.0910\n",
      "Epoch 15/20\n",
      "4/4 [==============================] - 0s 1ms/sample - loss: 0.0979\n",
      "Epoch 16/20\n",
      "4/4 [==============================] - 0s 1ms/sample - loss: 0.0863\n",
      "Epoch 17/20\n",
      "4/4 [==============================] - 0s 2ms/sample - loss: 0.0887\n",
      "Epoch 18/20\n",
      "4/4 [==============================] - 0s 5ms/sample - loss: 0.0877\n",
      "Epoch 19/20\n",
      "4/4 [==============================] - 0s 2ms/sample - loss: 0.0935\n",
      "Epoch 20/20\n",
      "4/4 [==============================] - 0s 2ms/sample - loss: 0.0810\n"
     ]
    },
    {
     "data": {
      "text/plain": [
       "<tensorflow.python.keras.callbacks.History at 0x14a51f218d0>"
      ]
     },
     "execution_count": 14,
     "metadata": {},
     "output_type": "execute_result"
    }
   ],
   "source": [
    "autoencoder.fit(train,train, epochs=20)"
   ]
  },
  {
   "cell_type": "code",
   "execution_count": 15,
   "metadata": {},
   "outputs": [
    {
     "data": {
      "text/plain": [
       "<AxesSubplot:>"
      ]
     },
     "execution_count": 15,
     "metadata": {},
     "output_type": "execute_result"
    },
    {
     "data": {
      "image/png": "[encoded data removed]",
      "text/plain": [
       "<Figure size 1440x720 with 1 Axes>"
      ]
     },
     "metadata": {
      "needs_background": "light"
     },
     "output_type": "display_data"
    }
   ],
   "source": [
    "loss=pd.DataFrame(autoencoder.history.history)\n",
    "loss.plot(figsize=(20,10),color='r')"
   ]
  },
  {
   "cell_type": "code",
   "execution_count": 16,
   "metadata": {},
   "outputs": [
    {
     "data": {
      "text/plain": [
       "array([[0.54440665, 0.        ],\n",
       "       [1.6859181 , 0.        ],\n",
       "       [0.6880527 , 0.        ],\n",
       "       [0.        , 0.7085873 ]], dtype=float32)"
      ]
     },
     "execution_count": 16,
     "metadata": {},
     "output_type": "execute_result"
    }
   ],
   "source": [
    "encoded_2dim = encoder.predict(train)\n",
    "encoded_2dim"
   ]
  },
  {
   "cell_type": "code",
   "execution_count": 131,
   "metadata": {},
   "outputs": [
    {
     "data": {
      "text/plain": [
       "Index(['ANKARA-ISTANBUL', 'ISTANBUL-ANKARA', 'ISTANBUL-IZMIR', 'IZMIR-ANKARA'], dtype='object', name='HAT')"
      ]
     },
     "execution_count": 131,
     "metadata": {},
     "output_type": "execute_result"
    }
   ],
   "source": [
    "data.transpose().columns"
   ]
  },
  {
   "cell_type": "code",
   "execution_count": 18,
   "metadata": {},
   "outputs": [],
   "source": [
    "result = pd.DataFrame(data=encoded_2dim,\n",
    "                     columns =['D1','D2'])"
   ]
  },
  {
   "cell_type": "code",
   "execution_count": 19,
   "metadata": {},
   "outputs": [
    {
     "data": {
      "text/html": [
       "<div>\n",
       "<style scoped>\n",
       "    .dataframe tbody tr th:only-of-type {\n",
       "        vertical-align: middle;\n",
       "    }\n",
       "\n",
       "    .dataframe tbody tr th {\n",
       "        vertical-align: top;\n",
       "    }\n",
       "\n",
       "    .dataframe thead th {\n",
       "        text-align: right;\n",
       "    }\n",
       "</style>\n",
       "<table border=\"1\" class=\"dataframe\">\n",
       "  <thead>\n",
       "    <tr style=\"text-align: right;\">\n",
       "      <th></th>\n",
       "      <th>D1</th>\n",
       "      <th>D2</th>\n",
       "      <th>HAT</th>\n",
       "    </tr>\n",
       "  </thead>\n",
       "  <tbody>\n",
       "    <tr>\n",
       "      <th>0</th>\n",
       "      <td>0.544407</td>\n",
       "      <td>0.000000</td>\n",
       "      <td>ANKARA-ISTANBUL</td>\n",
       "    </tr>\n",
       "    <tr>\n",
       "      <th>1</th>\n",
       "      <td>1.685918</td>\n",
       "      <td>0.000000</td>\n",
       "      <td>ISTANBUL-ANKARA</td>\n",
       "    </tr>\n",
       "    <tr>\n",
       "      <th>2</th>\n",
       "      <td>0.688053</td>\n",
       "      <td>0.000000</td>\n",
       "      <td>ISTANBUL-IZMIR</td>\n",
       "    </tr>\n",
       "    <tr>\n",
       "      <th>3</th>\n",
       "      <td>0.000000</td>\n",
       "      <td>0.708587</td>\n",
       "      <td>IZMIR-ANKARA</td>\n",
       "    </tr>\n",
       "  </tbody>\n",
       "</table>\n",
       "</div>"
      ],
      "text/plain": [
       "         D1        D2              HAT\n",
       "0  0.544407  0.000000  ANKARA-ISTANBUL\n",
       "1  1.685918  0.000000  ISTANBUL-ANKARA\n",
       "2  0.688053  0.000000   ISTANBUL-IZMIR\n",
       "3  0.000000  0.708587     IZMIR-ANKARA"
      ]
     },
     "execution_count": 19,
     "metadata": {},
     "output_type": "execute_result"
    }
   ],
   "source": [
    "result['HAT'] = data.transpose().columns\n",
    "result = result.sort_values('D1')\n",
    "result"
   ]
  },
  {
   "cell_type": "code",
   "execution_count": 90,
   "metadata": {},
   "outputs": [],
   "source": [
    "hat = np.array(result['HAT'])"
   ]
  },
  {
   "cell_type": "code",
   "execution_count": 92,
   "metadata": {},
   "outputs": [
    {
     "data": {
      "text/plain": [
       "<AxesSubplot:xlabel='D1', ylabel='D2'>"
      ]
     },
     "execution_count": 92,
     "metadata": {},
     "output_type": "execute_result"
    },
    {
     "data": {
      "image/png": "[encoded data removed]",
      "text/plain": [
       "<Figure size 1008x504 with 1 Axes>"
      ]
     },
     "metadata": {
      "needs_background": "light"
     },
     "output_type": "display_data"
    }
   ],
   "source": [
    "plt.figure(figsize=(14,7))\n",
    "sns.scatterplot(x='D1',y='D2',data=result, hue = hat)"
   ]
  },
  {
   "cell_type": "code",
   "execution_count": 97,
   "metadata": {},
   "outputs": [
    {
     "data": {
      "text/plain": [
       "<AxesSubplot:ylabel='HAT'>"
      ]
     },
     "execution_count": 97,
     "metadata": {},
     "output_type": "execute_result"
    },
    {
     "data": {
      "image/png": "[encoded data removed]",
      "text/plain": [
       "<Figure size 1152x288 with 3 Axes>"
      ]
     },
     "metadata": {
      "needs_background": "light"
     },
     "output_type": "display_data"
    }
   ],
   "source": [
    "plt.figure(figsize=(16,4))\n",
    "\n",
    "plt.subplot(1,2,1)\n",
    "sns.scatterplot(x='D1',y='D2',data=result, hue = hat)\n",
    "\n",
    "plt.subplot(1,2,2)\n",
    "sns.heatmap(data,annot =True, cmap ='coolwarm',fmt='.4g')\n",
    "\n",
    "\n",
    "#plt.savefig('ScatterPlot_09.png')\n"
   ]
  },
  {
   "cell_type": "code",
   "execution_count": 26,
   "metadata": {},
   "outputs": [],
   "source": [
    "points = np.array(result[['D1', 'D2']])\n",
    "names = result['HAT'].values"
   ]
  },
  {
   "cell_type": "code",
   "execution_count": 72,
   "metadata": {},
   "outputs": [],
   "source": [
    "def pisagor(points, names):\n",
    "    distances = []\n",
    "\n",
    "    for point1, name1 in zip(points, names):\n",
    "        for point2, name2 in zip(points, names):\n",
    "\n",
    "            distance = np.sqrt((point2[0] - point1[0])**2 + (point2[1] - point1[1])**2)\n",
    "            distances.append([name1 + ' & ' + name2, distance])\n",
    "\n",
    "    distances = pd.DataFrame(distances)        \n",
    "    distances['HATLAR'] = distances[0]\n",
    "    distances['MESAFELER'] = distances[1]\n",
    "    distances.drop([0,1], inplace = True, axis =1)\n",
    "    distances = distances.drop_duplicates(subset = ['MESAFELER']).drop([0], axis = 0)\n",
    "    \n",
    "    return distances.sort_values('MESAFELER')"
   ]
  },
  {
   "cell_type": "code",
   "execution_count": 73,
   "metadata": {},
   "outputs": [
    {
     "data": {
      "text/html": [
       "<div>\n",
       "<style scoped>\n",
       "    .dataframe tbody tr th:only-of-type {\n",
       "        vertical-align: middle;\n",
       "    }\n",
       "\n",
       "    .dataframe tbody tr th {\n",
       "        vertical-align: top;\n",
       "    }\n",
       "\n",
       "    .dataframe thead th {\n",
       "        text-align: right;\n",
       "    }\n",
       "</style>\n",
       "<table border=\"1\" class=\"dataframe\">\n",
       "  <thead>\n",
       "    <tr style=\"text-align: right;\">\n",
       "      <th></th>\n",
       "      <th>HATLAR</th>\n",
       "      <th>MESAFELER</th>\n",
       "    </tr>\n",
       "  </thead>\n",
       "  <tbody>\n",
       "    <tr>\n",
       "      <th>2</th>\n",
       "      <td>ANKARA-ISTANBUL &amp; ISTANBUL-IZMIR</td>\n",
       "      <td>0.143646</td>\n",
       "    </tr>\n",
       "    <tr>\n",
       "      <th>3</th>\n",
       "      <td>ANKARA-ISTANBUL &amp; IZMIR-ANKARA</td>\n",
       "      <td>0.893574</td>\n",
       "    </tr>\n",
       "    <tr>\n",
       "      <th>11</th>\n",
       "      <td>ISTANBUL-IZMIR &amp; IZMIR-ANKARA</td>\n",
       "      <td>0.987680</td>\n",
       "    </tr>\n",
       "    <tr>\n",
       "      <th>6</th>\n",
       "      <td>ISTANBUL-ANKARA &amp; ISTANBUL-IZMIR</td>\n",
       "      <td>0.997865</td>\n",
       "    </tr>\n",
       "    <tr>\n",
       "      <th>1</th>\n",
       "      <td>ANKARA-ISTANBUL &amp; ISTANBUL-ANKARA</td>\n",
       "      <td>1.141511</td>\n",
       "    </tr>\n",
       "    <tr>\n",
       "      <th>7</th>\n",
       "      <td>ISTANBUL-ANKARA &amp; IZMIR-ANKARA</td>\n",
       "      <td>1.828774</td>\n",
       "    </tr>\n",
       "  </tbody>\n",
       "</table>\n",
       "</div>"
      ],
      "text/plain": [
       "                               HATLAR  MESAFELER\n",
       "2    ANKARA-ISTANBUL & ISTANBUL-IZMIR   0.143646\n",
       "3      ANKARA-ISTANBUL & IZMIR-ANKARA   0.893574\n",
       "11      ISTANBUL-IZMIR & IZMIR-ANKARA   0.987680\n",
       "6    ISTANBUL-ANKARA & ISTANBUL-IZMIR   0.997865\n",
       "1   ANKARA-ISTANBUL & ISTANBUL-ANKARA   1.141511\n",
       "7      ISTANBUL-ANKARA & IZMIR-ANKARA   1.828774"
      ]
     },
     "execution_count": 73,
     "metadata": {},
     "output_type": "execute_result"
    }
   ],
   "source": [
    "distances = pisagor(points, names)\n",
    "distances"
   ]
  },
  {
   "cell_type": "code",
   "execution_count": 98,
   "metadata": {},
   "outputs": [
    {
     "data": {
      "text/plain": [
       "<AxesSubplot:ylabel='HAT'>"
      ]
     },
     "execution_count": 98,
     "metadata": {},
     "output_type": "execute_result"
    },
    {
     "data": {
      "image/png": "[encoded data removed]",
      "text/plain": [
       "<Figure size 1152x288 with 3 Axes>"
      ]
     },
     "metadata": {
      "needs_background": "light"
     },
     "output_type": "display_data"
    }
   ],
   "source": [
    "plt.figure(figsize=(16,4))\n",
    "\n",
    "plt.subplot(1,2,1)\n",
    "sns.scatterplot(x='D1',y='D2',data=result, hue = hat)\n",
    "\n",
    "plt.subplot(1,2,2)\n",
    "sns.heatmap(data,annot =True, cmap ='coolwarm',fmt='.4g')\n",
    "\n",
    "\n",
    "#plt.savefig('ScatterPlot_09.png')\n"
   ]
  },
  {
   "cell_type": "code",
   "execution_count": null,
   "metadata": {},
   "outputs": [],
   "source": []
  },
  {
   "cell_type": "code",
   "execution_count": null,
   "metadata": {},
   "outputs": [],
   "source": []
  }
 ],
 "metadata": {
  "kernelspec": {
   "display_name": "Python 3",
   "language": "python",
   "name": "python3"
  },
  "language_info": {
   "codemirror_mode": {
    "name": "ipython",
    "version": 3
   },
   "file_extension": ".py",
   "mimetype": "text/x-python",
   "name": "python",
   "nbconvert_exporter": "python",
   "pygments_lexer": "ipython3",
   "version": "3.7.3"
  }
 },
 "nbformat": 4,
 "nbformat_minor": 4
}
